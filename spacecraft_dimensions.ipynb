{
 "cells": [
  {
   "cell_type": "code",
   "execution_count": null,
   "id": "5a92ef77",
   "metadata": {},
   "outputs": [
    {
     "data": {
      "text/plain": [
       "[{l_x: -2.23606797749979, l_y: -2.23606797749979, l_z: -5.00000000000000},\n",
       " {l_x: -2.23606797749979, l_y: -2.23606797749979, l_z: 5.00000000000000},\n",
       " {l_x: -2.23606797749979, l_y: 2.23606797749979, l_z: -5.00000000000000},\n",
       " {l_x: -2.23606797749979, l_y: 2.23606797749979, l_z: 5.00000000000000},\n",
       " {l_x: 2.23606797749979, l_y: -2.23606797749979, l_z: -5.00000000000000},\n",
       " {l_x: 2.23606797749979, l_y: -2.23606797749979, l_z: 5.00000000000000},\n",
       " {l_x: 2.23606797749979, l_y: 2.23606797749979, l_z: -5.00000000000000},\n",
       " {l_x: 2.23606797749979, l_y: 2.23606797749979, l_z: 5.00000000000000}]"
      ]
     },
     "execution_count": 9,
     "metadata": {},
     "output_type": "execute_result"
    }
   ],
   "source": [
    "import numpy as np\n",
    "from sympy import *\n",
    "\n",
    "J1, J2, J3 = 30, 30, 10\n",
    "J = np.diag([J1, J2, J3])\n",
    "\n",
    "m = 12 # kg\n",
    "\n",
    "lx, ly, lz = symbols(\"l_x, l_y, l_z\")\n",
    "\n",
    "eq1 = Eq(J1, (1 / 12) * m * (ly**2 + lz**2))\n",
    "eq2 = Eq(J2, (1 / 12) * m * (lz**2 + lx**2))\n",
    "eq3 = Eq(J3, (1 / 12) * m * (lx**2 + ly**2))\n",
    "\n",
    "solve((eq1, eq2, eq3))\n",
    "\n"
   ]
  },
  {
   "cell_type": "code",
   "execution_count": 10,
   "id": "3395a6f5",
   "metadata": {},
   "outputs": [],
   "source": [
    "lx = ly = 2.23606797749979\n",
    "lz = 5."
   ]
  },
  {
   "cell_type": "code",
   "execution_count": null,
   "id": "d8e8784c",
   "metadata": {},
   "outputs": [],
   "source": []
  }
 ],
 "metadata": {
  "kernelspec": {
   "display_name": "base",
   "language": "python",
   "name": "python3"
  },
  "language_info": {
   "codemirror_mode": {
    "name": "ipython",
    "version": 3
   },
   "file_extension": ".py",
   "mimetype": "text/x-python",
   "name": "python",
   "nbconvert_exporter": "python",
   "pygments_lexer": "ipython3",
   "version": "3.11.5"
  }
 },
 "nbformat": 4,
 "nbformat_minor": 5
}
